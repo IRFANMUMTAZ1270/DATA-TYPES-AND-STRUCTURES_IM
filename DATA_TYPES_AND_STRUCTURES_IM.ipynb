{
  "nbformat": 4,
  "nbformat_minor": 0,
  "metadata": {
    "colab": {
      "provenance": []
    },
    "kernelspec": {
      "name": "python3",
      "display_name": "Python 3"
    },
    "language_info": {
      "name": "python"
    }
  },
  "cells": [
    {
      "cell_type": "markdown",
      "source": [
        "#DATA TYPES AND STRUCTURES"
      ],
      "metadata": {
        "id": "T8Ks1bZV_fez"
      }
    },
    {
      "cell_type": "markdown",
      "source": [
        "#THEORY ANSWERS"
      ],
      "metadata": {
        "id": "pvLKmIYb_pm5"
      }
    },
    {
      "cell_type": "markdown",
      "source": [
        "**QUES 01. What are data structures, and why are they important?**\n",
        "-\tData structures are ways to store and organize data efficiently so that operations like searching, sorting, and retrieval can be performed quickly. They help in structuring data to optimize performance and manage complexity in software applications. Examples: lists, tuples, sets, and dictionaries.\n",
        "**Why and Importance:**\n",
        "-\tImprove efficiency and work in data manipulation.\n",
        "-\tHelp in optimizing storage and retrieval.\n",
        "-\tUsed in algorithms and applications like databases, AI, and networking.\n",
        "**Examples under in Python:**\n",
        "-\tList: Ordered, and mutable.\n",
        "-\tTuple: Ordered,  and immutable.\n",
        "-\tDictionary: Key-value mapping, and  fast lookups.\n",
        "-\tSet: Unordered, and  unique values.\n",
        "\n",
        "**QUES 2.\tExplain the difference between mutable and immutable data types with examples.**\n",
        "-\tMutable data types are those that can be changed after creation, like lists, dictionaries, and sets. For example, a list [1,2,3] can be modified to [1,2,4]. Immutable data types, on the other hand, cannot be changed once created, like strings, tuples, and integers. For example, trying to change a tuple (1,2,3) will result in an error.\n",
        "\n",
        "**QUES 3.\tWhat are the main differences between lists and tuples in Python?**\n",
        "-\tLists are mutable, meaning their elements can be changed or updated, while tuples are immutable, meaning their elements remain fixed once assigned. Lists are generally used when frequent modification is needed, whereas tuples are used for fixed collections of values.\n",
        "\n",
        "**QUES 4.\tDescribe how dictionaries store data.**\n",
        "-\tDictionaries store data as key-value pairs using a hash table mechanism. Each key is unique and maps to a corresponding value. This allows for fast lookup, insertion, and deletion of values.\n",
        "\n",
        "**QUES 5. Why might you use a set instead of a list in Python?**\n",
        "- Sets automatically remove duplicate values and provide faster membership checking compared to lists. This makes them ideal for scenarios where uniqueness and quick lookups are necessary.\n",
        "\n",
        "**QUES 6. What is a string in Python, and how is it different from a list?**\n",
        "- A string is a sequence of characters that is immutable, meaning it cannot be changed after creation. A list, however, is mutable and can hold different types of elements, allowing for modification.\n",
        "\n",
        "**QUES 7. How do tuples ensure data integrity in Python?**\n",
        "- o\tSince tuples are immutable, their values cannot be changed accidentally, ensuring data consistency and reliability, which is useful for fixed collections.\n",
        "\n",
        "**QUES 8. What is a hash table, and how does it relate to dictionaries in Python?**\n",
        "- o\tA hash table is a data structure that stores key-value pairs efficiently by using a hash function. Python dictionaries are implemented using hash tables allowing for fast lookups and retrieval.\n",
        "\n",
        "**QUES 9. Can lists contain different data types in Python?**\n",
        "- o\tYes, lists in Python can hold multiple data types, such as integers, strings, and even other lists.\n",
        "\n",
        "**QUES 10. Explain why strings are immutable in Python.**\n",
        "- o\tStrings are immutable to ensure security, efficiency, and performance optimization. This prevents accidental modification and allows Python to handle string operations more efficiently\n",
        "\n",
        "**QUES 11. What advantages do dictionaries offer over lists for certain tasks?**\n",
        "\n",
        "Fast lookups: O(1) on average, unlike O(n) for lists.\n",
        "Key-value mapping allows meaningful indexing.\n",
        "Efficient insertion & deletion.\n",
        "Exam:\n",
        "student = {\"name\": \"Irfan\", \"age\": 25}\n",
        "print(student[\"name\"])  # O(1) lookup\n",
        "\n",
        "**QUES 12. Describe a scenario where using a tuple would be preferable over a list.**\n",
        "- If data should not change, use a tuple:\n",
        "months = (\"feb\", \"apr\", \"dec\")  # Tuple is better since months don’t change\n",
        "\n",
        "**QUES 13. How do sets handle duplicate values in Python?**\n",
        "- Sets automatically remove duplicates.\n",
        "nums = {51, 32, 12, 1, 8, 8}\n",
        "print(nums)  # Output: {51, 32, 12, 1, 8}\n",
        "\n",
        "**QUES 14. How does the in keyword work differently for lists and dictionaries?**\n",
        "- List: Checks for values.\n",
        "Dictionary: Checks for keys.\n",
        "nums = [10, 20, 30]\n",
        "print(2 in nums)  #  Checks values\n",
        "but:\n",
        "data = {\"name\": \"Irfan\", \"age\": 24}\n",
        "print(\"name\" in data)  # Checks keys, not values\n",
        "\n",
        "**QUES 15. Can you modify the elements of a tuple? Explain why or why not.**\n",
        "No, tuples are immutable. So, it cannot be modified.\n",
        "\n",
        "**QUES 16. What is a nested dictionary, and give an example of its use case?**\n",
        "- A nested dictionary is a dictionary within a dictionary.\n",
        "Example:\n",
        "students = {\n",
        "    \"Alice\": {\"age\": 25, \"grade\": \"A\"},\n",
        "    \"Bob\": {\"age\": 24, \"grade\": \"B\"}\n",
        "}\n",
        "print(students[\"Alice\"][\"grade\"])  # Output: A\n",
        "\n",
        "**QUES 17. Describe the time complexity of accessing elements in a dictionary.**\n",
        "- O(1) on average (hash table lookup).\n",
        "- O(n) in worst case (hash collisions).\n",
        "\n",
        "**QUES 18. In what situations are lists preferred over dictionaries?**\n",
        "- When order matters (lists maintain order).\n",
        "- When storing sequential data.\n",
        "If key-value mapping is unnecessary.\n",
        "tasks = [\"Drink\", \"take\", \"Code\"]  # List is best for ordered tasks\n",
        "\n",
        "**QUES 19. Why are dictionaries considered unordered, and how does that affect data retrieval?**\n",
        "- Before Python 3.7, dictionaries did not maintain insertion order.\n",
        "- Impact: You cannot rely on order when retrieving data.\n",
        "- Workaround: Use OrderedDict in collections (for Python <3.7).\n",
        "\n",
        "**QUES 20. Explain the difference between a list and a dictionary in terms of data retrieval.**\n",
        "\n",
        "List (O(n)):\n",
        "  -\tLookup: \t\tSlower (linear search)\n",
        "  -\tKey-value mapping: \tNo\n",
        "  -\tOrdered:\t\tYes (since Python 3.7)\n",
        "  \n",
        "Dictionary (O(1)):\n",
        "  -\tLookup:\t\t\tFaster (hashing)\n",
        "  -\tKey-value mapping:\tYes\n",
        "  -\tOrdered:\t\tNo (before Python 3.7)"
      ],
      "metadata": {
        "id": "KmSSZgQP_tR9"
      }
    },
    {
      "cell_type": "markdown",
      "source": [
        "#PRACTICAL ANSWER"
      ],
      "metadata": {
        "id": "zDyvyyEzgu5q"
      }
    },
    {
      "cell_type": "code",
      "source": [
        "#QUE:01 Create a string with your name and print it.\n",
        "\n",
        "name = \"Mr. Irfan Mumtaz\"\n",
        "print(name)"
      ],
      "metadata": {
        "colab": {
          "base_uri": "https://localhost:8080/"
        },
        "id": "qDT0DlGWgzxq",
        "outputId": "0e35892c-bda4-4af7-b092-27bcb38c8aaa"
      },
      "execution_count": null,
      "outputs": [
        {
          "output_type": "stream",
          "name": "stdout",
          "text": [
            "Mr. Irfan Mumtaz\n"
          ]
        }
      ]
    },
    {
      "cell_type": "code",
      "source": [
        "#QUE:02 Find the length of the string \"Hello World!\".\n",
        "\n",
        "name = \"Hello World!\" #String\n",
        "length = len(name) #Get the length of the string\n",
        "print(\"Length of the name:\", length)"
      ],
      "metadata": {
        "colab": {
          "base_uri": "https://localhost:8080/"
        },
        "id": "f2j8-0GuhjoU",
        "outputId": "b6c22d02-e3ef-4b02-c400-e6e92f7fbca5"
      },
      "execution_count": null,
      "outputs": [
        {
          "output_type": "stream",
          "name": "stdout",
          "text": [
            "Length of the name: 12\n"
          ]
        }
      ]
    },
    {
      "cell_type": "code",
      "source": [
        "#QUE:03 Slice the first 3 characters from the string \"Python Programming\".\n",
        "\n",
        "a = \"Python Programming\"\n",
        "sliced_text = a[:3]  # Extract first 3 characters frim the string\n",
        "print(\"First 3 characters:\", sliced_text)"
      ],
      "metadata": {
        "colab": {
          "base_uri": "https://localhost:8080/"
        },
        "id": "ciZkgkmRhkTw",
        "outputId": "f381c506-78fb-47c1-d5b5-1a3d0d1ec9ca"
      },
      "execution_count": null,
      "outputs": [
        {
          "output_type": "stream",
          "name": "stdout",
          "text": [
            "First 3 characters: Pyt\n"
          ]
        }
      ]
    },
    {
      "cell_type": "code",
      "source": [
        "#QUE:04 Convert the string \"hello\" to uppercase.\n",
        "\n",
        "text = \"hello\"\n",
        "Uppercase_text = text.upper()\n",
        "print(\"The Uppercase string:\", Uppercase_text)"
      ],
      "metadata": {
        "colab": {
          "base_uri": "https://localhost:8080/"
        },
        "id": "UmP5SkJMhkc9",
        "outputId": "37fce12d-4a66-4834-d7cb-7e99e0e545df"
      },
      "execution_count": null,
      "outputs": [
        {
          "output_type": "stream",
          "name": "stdout",
          "text": [
            "The Uppercase string: HELLO\n"
          ]
        }
      ]
    },
    {
      "cell_type": "code",
      "source": [
        "#QUE:05 Replace the word \"apple\" with \"orange\" in the string \"I like apple\"\n",
        "\n",
        "a = \"I like apple\"\n",
        "new_text = a.replace(\"apple\", \"orange\")\n",
        "print(new_text)"
      ],
      "metadata": {
        "colab": {
          "base_uri": "https://localhost:8080/"
        },
        "id": "hAx36IJThkie",
        "outputId": "9a4b0b8f-c229-49c4-dc60-747f4efe49ae"
      },
      "execution_count": null,
      "outputs": [
        {
          "output_type": "stream",
          "name": "stdout",
          "text": [
            "I like orange\n"
          ]
        }
      ]
    },
    {
      "cell_type": "code",
      "source": [
        "#QUE:06 Create a list with numbers 1 to 5 and print it\n",
        "\n",
        "numbers = [1, 2, 3, 4, 5]\n",
        "print(numbers)"
      ],
      "metadata": {
        "colab": {
          "base_uri": "https://localhost:8080/"
        },
        "id": "FxTLRLhQhkrQ",
        "outputId": "ea3efc1f-6288-4661-addb-49f72a5ca2d6"
      },
      "execution_count": null,
      "outputs": [
        {
          "output_type": "stream",
          "name": "stdout",
          "text": [
            "[1, 2, 3, 4, 5]\n"
          ]
        }
      ]
    },
    {
      "cell_type": "code",
      "source": [
        "#QUE:07 Append the number 10 to the list [1, 2, 3, 4, 5].\n",
        "\n",
        "a = [1, 2, 3, 4, 5]\n",
        "a.append(10)\n",
        "print(a)"
      ],
      "metadata": {
        "colab": {
          "base_uri": "https://localhost:8080/"
        },
        "id": "8jfazFfqhkvF",
        "outputId": "df51fb15-cf23-4476-8b95-22f4225b5a07"
      },
      "execution_count": null,
      "outputs": [
        {
          "output_type": "stream",
          "name": "stdout",
          "text": [
            "[1, 2, 3, 4, 5, 10]\n"
          ]
        }
      ]
    },
    {
      "cell_type": "code",
      "source": [
        "#QUE:08 Remove the number 3 from the list [1, 2, 3, 4, 5].\n",
        "\n",
        "a = [1, 2, 3, 4, 5]\n",
        "a.remove(3)\n",
        "print(a)"
      ],
      "metadata": {
        "colab": {
          "base_uri": "https://localhost:8080/"
        },
        "id": "GFIipvx7hky9",
        "outputId": "c0460ad4-c69e-4f7e-ed62-312ebea95b3f"
      },
      "execution_count": null,
      "outputs": [
        {
          "output_type": "stream",
          "name": "stdout",
          "text": [
            "[1, 2, 4, 5]\n"
          ]
        }
      ]
    },
    {
      "cell_type": "code",
      "source": [
        "#QUE:09 Access the second element in the list ['a', 'b', 'c', 'd'].\n",
        "\n",
        "letters = ['a', 'b', 'c', 'd']\n",
        "second_element = letters[1]  # Indexing starts from 0 and the second element will be the indexing of [1]\n",
        "print(\"Second element:\", second_element)"
      ],
      "metadata": {
        "colab": {
          "base_uri": "https://localhost:8080/"
        },
        "id": "MHXkrGMXhk2k",
        "outputId": "8f116c79-b9a2-4cf6-ce23-b1849f9e50c4"
      },
      "execution_count": null,
      "outputs": [
        {
          "output_type": "stream",
          "name": "stdout",
          "text": [
            "Second element: b\n"
          ]
        }
      ]
    },
    {
      "cell_type": "code",
      "source": [
        "#QUE:010 Reverse the list [10, 20, 30, 40, 50].\n",
        "\n",
        "numbers = [10, 20, 30, 40, 50]\n",
        "numbers.reverse()\n",
        "print(\"The Reversed list is :\", numbers)"
      ],
      "metadata": {
        "colab": {
          "base_uri": "https://localhost:8080/"
        },
        "id": "je1GwM2Yhk57",
        "outputId": "97d629e5-3269-4d33-b7fc-56ecc0d6010b"
      },
      "execution_count": null,
      "outputs": [
        {
          "output_type": "stream",
          "name": "stdout",
          "text": [
            "The Reversed list is : [50, 40, 30, 20, 10]\n"
          ]
        }
      ]
    },
    {
      "cell_type": "code",
      "source": [
        "#QUE:011 Create a tuple with the elements 100, 200, 300 and print it.\n",
        "\n",
        "a = (100, 200, 300)\n",
        "print(a)"
      ],
      "metadata": {
        "colab": {
          "base_uri": "https://localhost:8080/"
        },
        "id": "GckFxgOphk9p",
        "outputId": "d29c70a7-2484-4d6a-ce1b-eb2c7c1eab34"
      },
      "execution_count": null,
      "outputs": [
        {
          "output_type": "stream",
          "name": "stdout",
          "text": [
            "(100, 200, 300)\n"
          ]
        }
      ]
    },
    {
      "cell_type": "code",
      "source": [
        "#QUE:012 Access the second-to-last element of the tuple ('red', 'green', 'blue', 'yellow').\n",
        "\n",
        "colors = ('red', 'green', 'blue', 'yellow')\n",
        "second_last = colors[-2]  # Negative indexing from yellow\n",
        "print(\"Second-to-last element:\", second_last)"
      ],
      "metadata": {
        "colab": {
          "base_uri": "https://localhost:8080/"
        },
        "id": "rpR4XNcPhlBZ",
        "outputId": "af88b250-075c-47f9-f827-efefea6de510"
      },
      "execution_count": null,
      "outputs": [
        {
          "output_type": "stream",
          "name": "stdout",
          "text": [
            "Second-to-last element: blue\n"
          ]
        }
      ]
    },
    {
      "cell_type": "code",
      "source": [
        "#QUE:013 Find the minimum number in the tuple (10, 20, 5, 15).\n",
        "\n",
        "a = (100, 200, 50, 105)\n",
        "min_value = min(a)\n",
        "print(\"Minimum number:\", min_value)"
      ],
      "metadata": {
        "colab": {
          "base_uri": "https://localhost:8080/"
        },
        "id": "pkoYJQTthlFG",
        "outputId": "20a26311-ce97-4f74-a94d-5d9b0d3e66e2"
      },
      "execution_count": null,
      "outputs": [
        {
          "output_type": "stream",
          "name": "stdout",
          "text": [
            "Minimum number: 50\n"
          ]
        }
      ]
    },
    {
      "cell_type": "code",
      "source": [
        "#QUE:014 Find the index of the element \"cat\" in the tuple ('dog', 'cat', 'rabbit').\n",
        "\n",
        "animals = ('dog', 'cat', 'rabbit')\n",
        "index_of_cat = animals.index(\"cat\")\n",
        "print(\"Index of 'cat':\", index_of_cat)"
      ],
      "metadata": {
        "colab": {
          "base_uri": "https://localhost:8080/"
        },
        "id": "LvsA3g0LhlI3",
        "outputId": "36a1f8a1-6005-43aa-ff35-03bded1521a3"
      },
      "execution_count": null,
      "outputs": [
        {
          "output_type": "stream",
          "name": "stdout",
          "text": [
            "Index of 'cat': 1\n"
          ]
        }
      ]
    },
    {
      "cell_type": "code",
      "source": [
        "#QUE:015 Create a tuple containing three different fruits and check if \"kiwi\" is in it.\n",
        "\n",
        "#result will be false because there is no kiwi is present in the tuple.\n",
        "fruits = (\"apple\", \"banana\", \"cherry\")\n",
        "is_kiwi_present = \"kiwi\" in fruits\n",
        "print(\"Is 'kiwi' in the tuple?\", is_kiwi_present)\n",
        "\n",
        "#result will be True because there kiwi is present in the tuple.\n",
        "fruits = (\"apple\", \"kiwi\", \"banana\", \"cherry\")\n",
        "is_kiwi_present = \"kiwi\" in fruits\n",
        "print(\"Is 'kiwi' in the tuple?\", is_kiwi_present)"
      ],
      "metadata": {
        "colab": {
          "base_uri": "https://localhost:8080/"
        },
        "id": "oy5CnhDyhlMx",
        "outputId": "c82ed3c0-016b-4cb4-8848-cebdf1a5ca68"
      },
      "execution_count": null,
      "outputs": [
        {
          "output_type": "stream",
          "name": "stdout",
          "text": [
            "Is 'kiwi' in the tuple? False\n",
            "Is 'kiwi' in the tuple? True\n"
          ]
        }
      ]
    },
    {
      "cell_type": "code",
      "source": [
        "#QUE:016 Create a set with the elements 'a', 'b', 'c' and print it.\n",
        "\n",
        "set = {'a', 'b', 'c'}\n",
        "print(set)"
      ],
      "metadata": {
        "colab": {
          "base_uri": "https://localhost:8080/"
        },
        "id": "zdPFkoHchlRA",
        "outputId": "2c2d380c-fccc-46f4-ce80-c2eefa5f4e53"
      },
      "execution_count": null,
      "outputs": [
        {
          "output_type": "stream",
          "name": "stdout",
          "text": [
            "{'a', 'b', 'c'}\n"
          ]
        }
      ]
    },
    {
      "cell_type": "code",
      "source": [
        "#QUE:017 Clear all elements from the set {1, 2, 3, 4, 5}.\n",
        "\n",
        "numbers_set = {1, 2, 3, 4, 5}\n",
        "numbers_set.clear()\n",
        "print(\"Cleared set:\", numbers_set)"
      ],
      "metadata": {
        "colab": {
          "base_uri": "https://localhost:8080/"
        },
        "id": "d696Ws7BhlVB",
        "outputId": "9c0a14d3-ec7c-4bfa-8df3-5a9ee70477ea"
      },
      "execution_count": null,
      "outputs": [
        {
          "output_type": "stream",
          "name": "stdout",
          "text": [
            "Cleared set: set()\n"
          ]
        }
      ]
    },
    {
      "cell_type": "code",
      "source": [
        "#QUE:018 Remove the element 4 from the set {1, 2, 3, 4}.\n",
        "\n",
        "numbers_set = {1, 2, 3, 4}\n",
        "numbers_set.remove(4)\n",
        "print(\"Set after removing 4:\", numbers_set)"
      ],
      "metadata": {
        "colab": {
          "base_uri": "https://localhost:8080/"
        },
        "id": "RLohxTXBhlZC",
        "outputId": "62f439d9-d6ec-4a65-8879-4b95be9e6ef2"
      },
      "execution_count": null,
      "outputs": [
        {
          "output_type": "stream",
          "name": "stdout",
          "text": [
            "Set after removing 4: {1, 2, 3}\n"
          ]
        }
      ]
    },
    {
      "cell_type": "code",
      "source": [
        "#QUE:019 Find the union of two sets {1, 2, 3} and {3, 4, 5}.\n",
        "\n",
        "set1 = {1, 2, 3}\n",
        "set2 = {3, 4, 5}\n",
        "union_set = set1.union(set2)\n",
        "print(\"Union of sets:\", union_set)"
      ],
      "metadata": {
        "colab": {
          "base_uri": "https://localhost:8080/"
        },
        "id": "tzt-YyDDhldN",
        "outputId": "c0b0dfcc-d90c-44b1-dce8-ff6a6433d8a1"
      },
      "execution_count": null,
      "outputs": [
        {
          "output_type": "stream",
          "name": "stdout",
          "text": [
            "Union of sets: {1, 2, 3, 4, 5}\n"
          ]
        }
      ]
    },
    {
      "cell_type": "code",
      "source": [
        "#QUE:020 Find the intersection of two sets {1, 2, 3} and {2, 3, 4}.\n",
        "\n",
        "set1 = {1, 2, 3}\n",
        "set2 = {2, 3, 4}\n",
        "intersection_set = set1.intersection(set2)\n",
        "print(\"Intersection of sets:\", intersection_set)"
      ],
      "metadata": {
        "colab": {
          "base_uri": "https://localhost:8080/"
        },
        "id": "opXdOjxJhlhZ",
        "outputId": "6813f98a-9050-47dd-d280-78b44418d433"
      },
      "execution_count": null,
      "outputs": [
        {
          "output_type": "stream",
          "name": "stdout",
          "text": [
            "Intersection of sets: {2, 3}\n"
          ]
        }
      ]
    },
    {
      "cell_type": "code",
      "source": [
        "#QUE:021 Create a dictionary with the keys \"name\", \"age\", and \"city\", and print it.\n",
        "\n",
        "person = {\"name\": \"Irfan\", \"age\": 26, \"city\": \"New York\"}\n",
        "print(person)"
      ],
      "metadata": {
        "colab": {
          "base_uri": "https://localhost:8080/"
        },
        "id": "KZQ0PptBhlmG",
        "outputId": "5efec69b-1546-4ef0-e632-410fdfb11ea1"
      },
      "execution_count": null,
      "outputs": [
        {
          "output_type": "stream",
          "name": "stdout",
          "text": [
            "{'name': 'Irfan', 'age': 26, 'city': 'New York'}\n"
          ]
        }
      ]
    },
    {
      "cell_type": "code",
      "source": [
        "#QUE:022 Add a new key-value pair \"country\": \"USA\" to the dictionary {'name': 'John', 'age': 25}.\n",
        "\n",
        "person = {'name': 'John', 'age': 25}\n",
        "person['country'] = \"USA\"\n",
        "print(person)"
      ],
      "metadata": {
        "colab": {
          "base_uri": "https://localhost:8080/"
        },
        "id": "DhamOPbzhlqx",
        "outputId": "4e760ab4-8b1e-4613-c32f-733b52eea1b3"
      },
      "execution_count": null,
      "outputs": [
        {
          "output_type": "stream",
          "name": "stdout",
          "text": [
            "{'name': 'John', 'age': 25, 'country': 'USA'}\n"
          ]
        }
      ]
    },
    {
      "cell_type": "code",
      "source": [
        "#QUE:023 Access the value associated with the key \"name\" in the dictionary\n",
        "\n",
        "person = {'name': 'Irfan', 'age': 26}\n",
        "name_value = person['name']\n",
        "print(\"Value of 'name':\", name_value)"
      ],
      "metadata": {
        "id": "N2TXE-m2hlvY",
        "colab": {
          "base_uri": "https://localhost:8080/"
        },
        "outputId": "29e640cd-40cc-4454-e5b6-a8097fb911a2"
      },
      "execution_count": 1,
      "outputs": [
        {
          "output_type": "stream",
          "name": "stdout",
          "text": [
            "Value of 'name': Irfan\n"
          ]
        }
      ]
    },
    {
      "cell_type": "code",
      "source": [
        "#QUE:024 Remove the key \"age\" from the dictionary {'name': 'Bob', 'age': 22, 'city': 'New York'}.\n",
        "\n",
        "person = {'name': 'Irfan', 'age': 26, 'city': 'New York'}\n",
        "person.pop('age')\n",
        "print(\"Dictionary after removing 'age':\", person)"
      ],
      "metadata": {
        "id": "Xjma_eBlhl0O",
        "colab": {
          "base_uri": "https://localhost:8080/"
        },
        "outputId": "b84cbad5-439d-455e-8bf9-ab986d2b2137"
      },
      "execution_count": 2,
      "outputs": [
        {
          "output_type": "stream",
          "name": "stdout",
          "text": [
            "Dictionary after removing 'age': {'name': 'Irfan', 'city': 'New York'}\n"
          ]
        }
      ]
    },
    {
      "cell_type": "code",
      "source": [
        "#QUE:025 Check if the key \"city\" exists in the dictionary {'name': 'Alice', 'city': 'Paris'}.\n",
        "\n",
        "#False when city is not present in the variable\n",
        "a = {'name': 'Alice', 'market': 'Paris'}\n",
        "is_city_present = \"city\" in a\n",
        "print(\"Is 'city' a key in the dictionary?\", is_city_present)\n",
        "\n",
        "#True when city is present in the variable\n",
        "a = {'name': 'Alice', 'city': 'Paris'}\n",
        "is_city_present = \"city\" in a\n",
        "print(\"Is 'city' a key in the dictionary?\", is_city_present)"
      ],
      "metadata": {
        "id": "QxsvHKVmhl4x",
        "colab": {
          "base_uri": "https://localhost:8080/"
        },
        "outputId": "01941162-0e88-4514-dbcc-2fbc231cd3a9"
      },
      "execution_count": 4,
      "outputs": [
        {
          "output_type": "stream",
          "name": "stdout",
          "text": [
            "Is 'city' a key in the dictionary? False\n",
            "Is 'city' a key in the dictionary? True\n"
          ]
        }
      ]
    },
    {
      "cell_type": "code",
      "source": [
        "#QUE:026 Create a list, a tuple, and a dictionary, and print them all.\n",
        "\n",
        "my_list = [1, 2, 3, 4, 5]\n",
        "my_tuple = (\"icecream\", \"choco\", \"cherry\")\n",
        "my_dict = {\"name\": \"Irfan\", \"age\": 26}\n",
        "\n",
        "print(\"List:\", my_list)\n",
        "print(\"Tuple:\", my_tuple)\n",
        "print(\"Dictionary:\", my_dict)"
      ],
      "metadata": {
        "id": "JEAJHbmehl9d",
        "colab": {
          "base_uri": "https://localhost:8080/"
        },
        "outputId": "0712a8e5-d907-4e9d-a812-85a8635d65cf"
      },
      "execution_count": 6,
      "outputs": [
        {
          "output_type": "stream",
          "name": "stdout",
          "text": [
            "List: [1, 2, 3, 4, 5]\n",
            "Tuple: ('icecream', 'choco', 'cherry')\n",
            "Dictionary: {'name': 'Irfan', 'age': 26}\n"
          ]
        }
      ]
    },
    {
      "cell_type": "code",
      "source": [
        "#QUE:027 Create a list of 5 random numbers between 1 and 100, sort it in ascending order, and print the result.\n",
        "\n",
        "import random\n",
        "\n",
        "random_numbers = [random.randint(1, 100) for _ in range(5)]\n",
        "random_numbers.sort()\n",
        "print(\"Sorted random numbers:\", random_numbers)"
      ],
      "metadata": {
        "id": "KoIU6A1IhmCR",
        "colab": {
          "base_uri": "https://localhost:8080/"
        },
        "outputId": "34601d9c-951f-4398-8a2b-653ab0cff511"
      },
      "execution_count": 11,
      "outputs": [
        {
          "output_type": "stream",
          "name": "stdout",
          "text": [
            "Sorted random numbers: [5, 22, 40, 42, 81]\n"
          ]
        }
      ]
    },
    {
      "cell_type": "code",
      "source": [
        "#QUE:028 Create a list with strings and print the element at the third index.\n",
        "\n",
        "words = [\"choco\", \"apple\", \"icecream\", \"market\", \"cherry\"]\n",
        "print(\"Element at index 3:\", words[3])"
      ],
      "metadata": {
        "id": "NwKsc2drhmG9",
        "colab": {
          "base_uri": "https://localhost:8080/"
        },
        "outputId": "ba186e91-8f4d-4443-b7f6-3d8508bd0e34"
      },
      "execution_count": 12,
      "outputs": [
        {
          "output_type": "stream",
          "name": "stdout",
          "text": [
            "Element at index 3: market\n"
          ]
        }
      ]
    },
    {
      "cell_type": "code",
      "source": [
        "#QUE:029 Combine two dictionaries into one and print the result.\n",
        "\n",
        "dict1 = {\"a\": 3, \"b\": 2}\n",
        "dict2 = {\"c\": 3, \"d\": 4}\n",
        "\n",
        "combined_dict = {**dict1, **dict2}  # Merging dictionaries\n",
        "print(\"Combined dictionary:\", combined_dict)"
      ],
      "metadata": {
        "id": "MuPJnczkhmLk",
        "colab": {
          "base_uri": "https://localhost:8080/"
        },
        "outputId": "2bd5f129-f81d-44c3-9124-1633344156d3"
      },
      "execution_count": 14,
      "outputs": [
        {
          "output_type": "stream",
          "name": "stdout",
          "text": [
            "Combined dictionary: {'a': 3, 'b': 2, 'c': 3, 'd': 4}\n"
          ]
        }
      ]
    },
    {
      "cell_type": "code",
      "source": [
        "#QUE:030 Convert a list of strings into a set.\n",
        "\n",
        "fruits = [\"kiwi\", \"dragon fruits\", \"choco\", \"mango\"]\n",
        "fruits_set = set(fruits)\n",
        "print(\"Set from list:\", fruits_set)"
      ],
      "metadata": {
        "id": "FcvYFvKehmPc",
        "colab": {
          "base_uri": "https://localhost:8080/"
        },
        "outputId": "4f23498c-6397-455e-d63c-c82505f0f3a1"
      },
      "execution_count": 15,
      "outputs": [
        {
          "output_type": "stream",
          "name": "stdout",
          "text": [
            "Set from list: {'kiwi', 'dragon fruits', 'mango', 'choco'}\n"
          ]
        }
      ]
    }
  ]
}